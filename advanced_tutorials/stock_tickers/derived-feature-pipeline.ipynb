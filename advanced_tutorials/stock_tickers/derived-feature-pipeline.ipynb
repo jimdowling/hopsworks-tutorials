{
 "cells": [
  {
   "cell_type": "code",
   "execution_count": 1,
   "id": "f222d007",
   "metadata": {},
   "outputs": [
    {
     "name": "stdout",
     "output_type": "stream",
     "text": [
      "Initializing spark session...\n",
      "Spark session available as `spark`.\n"
     ]
    }
   ],
   "source": [
    "from pyspark.sql.window import Window\n",
    "import pyspark.sql.functions as F\n",
    "import logging\n",
    "import json\n",
    "import os\n",
    "import hopsworks\n"
   ]
  },
  {
   "cell_type": "code",
   "execution_count": 2,
   "id": "febc51da",
   "metadata": {},
   "outputs": [],
   "source": [
    "def backfill_nulls(df, order_by_column_name):\n",
    "    windowSpec = Window.orderBy(order_by_column_name).rowsBetween(Window.unboundedPreceding, 0)\n",
    "    for column_name in df.columns:\n",
    "        backfilled_column = F.last(df[column_name], ignorenulls=True).over(windowSpec)\n",
    "        df = df.withColumn(column_name, F.when(F.col(column_name).isNotNull(), F.col(column_name)).otherwise(backfilled_column))\n",
    "    \n",
    "    return df\n",
    "\n",
    "def fill_initial_nulls(df, order_by_column_name):\n",
    "    windowSpec = Window.orderBy(order_by_column_name).rowsBetween(0, Window.unboundedFollowing)\n",
    "    for column_name in df.columns:\n",
    "        nearest_value_column = F.first(df[column_name], ignorenulls=True).over(windowSpec)\n",
    "        df = df.withColumn(column_name, F.when(F.col(column_name).isNotNull(), F.col(column_name)).otherwise(nearest_value_column))\n",
    "    \n",
    "    return df\n",
    "\n",
    "def process_news_for_ticker(df_news):    \n",
    "    df_news = df_news.withColumn('published_utc', F.date_trunc('day', F.col('published_utc')))\n",
    "    df_news = df_news.withColumn(\"combined_text\", \n",
    "                    F.concat_ws(\" \", \n",
    "                                df_news.description, \n",
    "                                F.concat_ws(\" \", df_news.keywords), \n",
    "                                df_news.title))\n",
    "    \n",
    "    df_news = (\n",
    "        df_news.groupBy(\"published_utc\")\n",
    "        .agg(F.concat_ws(\" \", F.collect_list(\"combined_text\")).alias(\"aggregated_text\"))\n",
    "    )\n",
    "\n",
    "    return df_news.withColumn(\"aggregated_text\", F.regexp_replace(df_news.aggregated_text, \"\\n\", \" \"))\n",
    "\n",
    "def process_data_for_ticker(df_news, df):\n",
    "    df = backfill_nulls(df, 't')\n",
    "    df = fill_initial_nulls(df, 't')\n",
    "    df = df.withColumn(\"t\", F.date_format(F.from_unixtime(F.col(\"t\") / 1000), \"yyyy-MM-dd HH:mm:ss\")) \\\n",
    "            .withColumn(\"t\", F.to_timestamp(F.col(\"t\"), \"yyyy-MM-dd HH:mm:ss\")) \\\n",
    "            .withColumn('t', F.date_trunc('day', F.col('t')))\n",
    "    \n",
    "    result_df = (df.join(df_news, df.t == df_news.published_utc, how=\"left\")\n",
    "                    .drop(\"published_utc\"))\n",
    "\n",
    "    return result_df.withColumn(\"aggregated_text\", F.coalesce(result_df.aggregated_text, F.lit(\" \")))\n",
    "\n",
    "def process_ticker(df_news, df_price):\n",
    "    logging.info(f\"Starting processing\")\n",
    "\n",
    "    # Process news for the ticker\n",
    "    df_news = process_news_for_ticker(df_news)\n",
    "\n",
    "    # Process data for the ticker\n",
    "    DF_target = process_data_for_ticker(df_news, df_price)\n",
    "\n",
    "    # Creating target for the ticker\n",
    "    window_spec = Window.orderBy('t')\n",
    "    DF_target = DF_target \\\n",
    "        .withColumn('target', F.col('c') - F.col('o')) \\\n",
    "        .withColumn('target', F.lead('target').over(window_spec))\n",
    "    DF_target = DF_target \\\n",
    "        .withColumn('next_c', F.lead('c').over(window_spec)) \\\n",
    "        .withColumn('target_class', F.when(F.col('target') > 0, 1).otherwise(0)) \\\n",
    "        .withColumn('c_class', F.when(F.col('c') > F.col('o'), 1).otherwise(0))\n",
    "\n",
    "    logging.info(f\"Creating lag features\")\n",
    "\n",
    "    lookback = 5\n",
    "    cols_to_lag = ['vw', 'n']\n",
    "    for col in cols_to_lag:\n",
    "        for lag in range(1, lookback+1):\n",
    "            DF_target = DF_target.withColumn(f'{col}_lag_{lag}', F.lag(DF_target[col], lag).over(window_spec))\n",
    "\n",
    "    logging.info(f\"Creating rolling features\")\n",
    "\n",
    "    rolling_spec = Window.orderBy('t').rowsBetween(-(lookback), -1)\n",
    "    for col in cols_to_lag:\n",
    "        DF_target = DF_target.withColumn(f'{col}_rolling_mean', F.avg(DF_target[col]).over(rolling_spec)) \\\n",
    "            .withColumn(f'{col}_rolling_std', F.stddev(DF_target[col]).over(rolling_spec))\n",
    "\n",
    "    DF_target = DF_target.dropna()\n",
    "\n",
    "    logging.info(f\"Final processing for\")\n",
    "\n",
    "#     cols = [col for col in DF_target.columns if col not in ['target']]\n",
    "#     cols = cols + ['target']\n",
    "    cols = [col for col in DF_target.columns]\n",
    "\n",
    "    DF_target = DF_target.select(*cols)\n",
    "\n",
    "    return DF_target"
   ]
  },
  {
   "cell_type": "code",
   "execution_count": 3,
   "id": "15547f81",
   "metadata": {},
   "outputs": [
    {
     "name": "stdout",
     "output_type": "stream",
     "text": [
      "\n",
      "Logged in to project, explore it here https://hopsworks0.logicalclocks.com/p/119\n"
     ]
    }
   ],
   "source": [
    "proj = hopsworks.login()\n",
    "fs = proj.get_feature_store()"
   ]
  },
  {
   "cell_type": "code",
   "execution_count": 4,
   "id": "c7087737",
   "metadata": {},
   "outputs": [
    {
     "name": "stdout",
     "output_type": "stream",
     "text": [
      "2024-09-18 15:10:31,432 INFO: Starting Silver Layer\n",
      "2024-09-18 15:10:36,083 INFO: Starting processing\n",
      "2024-09-18 15:10:37,866 INFO: Creating lag features\n",
      "2024-09-18 15:10:38,084 INFO: Creating rolling features\n",
      "2024-09-18 15:10:38,302 INFO: Final processing for\n",
      "2024-09-18 15:10:38,404 INFO: All tickers processed and Silver Layer completed.\n",
      "+------+-------------------+-------+--------+--------+------+------------+--------+-------+---------------+-----------+------+------------+-------+--------+--------+--------+--------+--------+-------+-------+-------+-------+-------+------------------+------------------+--------------+------------------+\n",
      "|ticker|                  t|      o|       h|       l|     c|           v|      vw|      n|aggregated_text|     target|next_c|target_class|c_class|vw_lag_1|vw_lag_2|vw_lag_3|vw_lag_4|vw_lag_5|n_lag_1|n_lag_2|n_lag_3|n_lag_4|n_lag_5|   vw_rolling_mean|    vw_rolling_std|n_rolling_mean|     n_rolling_std|\n",
      "+------+-------------------+-------+--------+--------+------+------------+--------+-------+---------------+-----------+------+------------+-------+--------+--------+--------+--------+--------+-------+-------+-------+-------+-------+------------------+------------------+--------------+------------------+\n",
      "|  AMZN|2024-01-03 00:00:00|  149.2|  151.05|  148.33|148.47| 4.9410096E7|149.4055| 416954|               |  1.5899963| 370.6|           1|      0| 48.0662|185.9465| 248.345|149.8529|370.0458| 680131|1008871|1177663| 476432| 458059|200.45128326416017|119.42352019182053|      760231.2| 321845.1196650339|\n",
      "|  MSFT|2024-01-03 00:00:00| 369.01|373.2562|  368.51| 370.6| 2.3013464E7|371.1638| 373400|               | 0.02999878|184.25|           1|      1|149.4055| 48.0662|185.9465| 248.345|149.8529| 416954| 680131|1008871|1177663| 476432| 156.3232223510742| 72.72353334795831|      752010.2| 331862.3199426232|\n",
      "|  AAPL|2024-01-03 00:00:00| 184.22|  185.88|  183.43|184.25|  5.841446E7|184.3226| 656853|               |  -6.529999|238.45|           0|      1|371.1638|149.4055| 48.0662|185.9465| 248.345| 373400| 416954| 680131|1008871|1177663|200.58539886474608| 119.8684189424987|      731403.8| 355601.4687170175|\n",
      "|  TSLA|2024-01-03 00:00:00| 244.98|  245.68|  236.32|238.45|  1.210826E8|239.8167|1273469|               |0.083999634|47.569|           1|      0|184.3226|371.1638|149.4055| 48.0662|185.9465| 656853| 373400| 416954| 680131|1008871|187.78091888427736| 116.8733041246824|      627241.8|253954.50143224478|\n",
      "|  NVDA|2024-01-03 00:00:00| 47.485| 48.1841|   47.32|47.569|3.20822656E8| 47.6677| 493455|               | -1.3200073|237.93|           0|      1|239.8167|184.3226|371.1638|149.4055| 48.0662|1273469| 656853| 373400| 416954| 680131| 198.5549575805664|119.12329154447767|      680161.4|359144.08062684257|\n",
      "|  TSLA|2024-01-04 00:00:00| 239.25|   242.7|  237.73|237.93| 1.0261828E8|240.2989|1001611|               |-0.23999023|181.91|           0|      0| 47.6677|239.8167|184.3226|371.1638|149.4055| 493455|1273469| 656853| 373400| 416954|198.47525787353516|119.24921435079864|      642826.2|368723.32977410045|\n",
      "|  AAPL|2024-01-04 00:00:00| 182.15|183.0872|  180.88|181.91| 7.1878672E7|182.0183| 712692|               |  -2.725006|367.94|           0|      0|240.2989| 47.6677|239.8167|184.3226|371.1638|1001611| 493455|1273469| 656853| 373400|216.65393829345703|  116.801706841434|      759757.6| 371877.3642369215|\n",
      "|  MSFT|2024-01-04 00:00:00|370.665|   373.1|  367.17|367.94| 2.0901502E7|369.8079| 336221|               |  -1.019989|144.57|           0|      0|182.0183|240.2989| 47.6677|239.8167|184.3226| 712692|1001611| 493455|1273469| 656853|178.82483978271483| 78.64745001040541|      827616.0|309471.42820460827|\n",
      "|  AMZN|2024-01-04 00:00:00| 145.59|  147.38|  144.05|144.57| 5.6039808E7| 145.416| 541342|               | 0.23100281|47.998|           1|      0|369.8079|182.0183|240.2989| 47.6677|239.8167| 336221| 712692|1001611| 493455|1273469| 215.9218978881836|116.51719590423717|      763489.6| 379090.4666010476|\n",
      "|  NVDA|2024-01-04 00:00:00| 47.767|    48.5|  47.508|47.998|3.05489376E8| 48.0888| 454824|               | -1.2200012|367.75|           0|      1| 145.416|369.8079|182.0183|240.2989| 47.6677| 541342| 336221| 712692|1001611| 493455|197.04175872802733| 119.2925497386626|      617064.2| 253429.9244400708|\n",
      "|  MSFT|2024-01-05 00:00:00| 368.97|  372.06|   366.5|367.75| 2.1004576E7|368.9509| 327543|               |  0.6300049|237.49|           1|      0| 48.0888| 145.416|369.8079|182.0183|240.2989| 454824| 541342| 336221| 712692|1001611| 197.1259780883789| 119.1608048765155|      609338.0|258675.02959601648|\n",
      "|  TSLA|2024-01-05 00:00:00| 236.86|240.1196|234.9001|237.49| 9.2488936E7|237.8911| 934668|               | 0.55000305|145.24|           1|      1|368.9509| 48.0888| 145.416|369.8079|182.0183| 327543| 454824| 541342| 336221| 712692|222.85637664794922|   142.43140795717|      474524.4| 159928.0037369941|\n",
      "|  AMZN|2024-01-05 00:00:00| 144.69|  146.59|  144.53|145.24| 4.5003148E7|145.4485| 380385|               | -0.8100128|181.18|           0|      1|237.8911|368.9509| 48.0888| 145.416|369.8079| 934668| 327543| 454824| 541342| 336221|234.03093719482422|140.60651107898832|      518919.6|248727.52337306782|\n",
      "|  AAPL|2024-01-05 00:00:00| 181.99|  182.76|  180.17|181.18|  6.237116E7| 181.474| 682334|               |  0.6349983|49.097|           1|      0|145.4485|237.8911|368.9509| 48.0888| 145.416| 380385| 934668| 327543| 454824| 541342| 189.1590591430664|120.85611601789776|      527752.4|241290.53478597125|\n",
      "|  NVDA|2024-01-05 00:00:00| 48.462|  49.547|  48.306|49.097|4.09571264E8| 49.0192| 556255|               |  3.4749908|185.56|           1|      1| 181.474|145.4485|237.8911|368.9509| 48.0888| 682334| 380385| 934668| 327543| 454824|196.37065887451172|118.64903309780935|      555950.8|251306.35374319527|\n",
      "|  AAPL|2024-01-08 00:00:00|182.085|   185.6|   181.5|185.56| 5.9144472E7|184.3702| 669173|               |  4.3099976|240.45|           1|      1| 49.0192| 181.474|145.4485|237.8911|368.9509| 556255| 682334| 380385| 934668| 327543|196.55673904418944|118.35871492989826|      576237.0|245120.04560724934|\n",
      "|  TSLA|2024-01-08 00:00:00| 236.14|  241.25|   235.3|240.45| 8.5163328E7|238.5962| 970810|               |  2.3600006| 149.1|           1|      1|184.3702| 49.0192| 181.474|145.4485|237.8911| 669173| 556255| 682334| 380385| 934668|159.64059829711914| 70.08905135941528|      644563.0|202349.65413486626|\n",
      "|  AMZN|2024-01-08 00:00:00| 146.74|   149.4|  146.15| 149.1| 4.6757052E7|148.3238| 410733|               |  5.3900146|374.69|           1|      1|238.5962|184.3702| 49.0192| 181.474|145.4485| 970810| 669173| 556255| 682334| 380385|159.78162002563477|  70.2862867700629|      651791.4|215520.57631766857|\n",
      "|  MSFT|2024-01-08 00:00:00|  369.3|   375.2|  369.01|374.69| 2.3132276E7|372.9106| 370000|               |  2.7409973|52.253|           1|      1|148.3238|238.5962|184.3702| 49.0192| 181.474| 410733| 970810| 669173| 556255| 682334|  160.356681060791| 70.15133312402783|      657861.0|206191.65434978207|\n",
      "|  NVDA|2024-01-08 00:00:00| 49.512|  52.275|  49.479|52.253| 6.4250989E8| 51.3375| 946945|               |  0.7389984| 53.14|           1|      1|372.9106|148.3238|238.5962|184.3702| 49.0192| 370000| 410733| 970810| 669173| 556255|198.64400405883788|119.46597417291221|      595394.2|241254.28253960595|\n",
      "+------+-------------------+-------+--------+--------+------+------------+--------+-------+---------------+-----------+------+------------+-------+--------+--------+--------+--------+--------+-------+-------+-------+-------+-------+------------------+------------------+--------------+------------------+\n",
      "only showing top 20 rows\n",
      "\n"
     ]
    }
   ],
   "source": [
    "logging.info(\"Starting Silver Layer\")\n",
    "\n",
    "stock_fg = fs.get_or_create_feature_group(name=\"stock_price\", \n",
    "                                    version=1)\n",
    "news_fg = fs.get_or_create_feature_group(name=\"stock_news\", \n",
    "                                    version=1)\n",
    "\n",
    "df = process_ticker(news_fg.read(), stock_fg.read())\n",
    "    \n",
    "logging.info(\"All tickers processed and Silver Layer completed.\")\n",
    "df.show()"
   ]
  },
  {
   "cell_type": "code",
   "execution_count": 5,
   "id": "4367e478",
   "metadata": {},
   "outputs": [
    {
     "data": {
      "text/plain": [
       "(None, None)"
      ]
     },
     "execution_count": 5,
     "metadata": {},
     "output_type": "execute_result"
    }
   ],
   "source": [
    "\n",
    "\n",
    "fg = fs.get_or_create_feature_group(name=\"stock_features\", \n",
    "                                    version=1,\n",
    "                                    primary_key=['ticker'],\n",
    "                                    event_time=\"t\")\n",
    "fg.insert(df)"
   ]
  },
  {
   "cell_type": "code",
   "execution_count": null,
   "id": "55713d17",
   "metadata": {},
   "outputs": [],
   "source": []
  }
 ],
 "metadata": {
  "kernelspec": {
   "display_name": "PySpark",
   "language": "python",
   "name": "pysparkkernel"
  },
  "language_info": {
   "codemirror_mode": {
    "name": "ipython",
    "version": 3
   },
   "file_extension": ".py",
   "mimetype": "text/x-python",
   "name": "python",
   "nbconvert_exporter": "python",
   "pygments_lexer": "ipython3",
   "version": "3.10.11"
  }
 },
 "nbformat": 4,
 "nbformat_minor": 5
}
