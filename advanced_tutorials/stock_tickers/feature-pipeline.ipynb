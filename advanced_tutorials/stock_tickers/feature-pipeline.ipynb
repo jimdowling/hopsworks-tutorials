{
 "cells": [
  {
   "cell_type": "code",
   "execution_count": 2,
   "id": "b91f6bbc",
   "metadata": {},
   "outputs": [
    {
     "name": "stdout",
     "output_type": "stream",
     "text": [
      "\n",
      "Logged in to project, explore it here https://hopsworks0.logicalclocks.com/p/119\n",
      "wRZasThkH6vx7IhYJMrisdK_dlLkM7YI\n"
     ]
    }
   ],
   "source": [
    "from pyspark.sql.types import StructType, StructField, StringType, FloatType, LongType\n",
    "from pyspark.sql.window import Window\n",
    "import pyspark.sql.functions as F\n",
    "from datetime import date\n",
    "import aiohttp\n",
    "import asyncio\n",
    "import logging\n",
    "import json \n",
    "import os\n",
    "from concurrent.futures import ThreadPoolExecutor\n",
    "import hopsworks\n",
    "\n",
    "BASE_PRICE_URL = \"https://api.polygon.io/v2/aggs/ticker/{ticker}/range/1/day/{start_date}/{end_date}?adjusted=true&sort=asc&limit=50000&apiKey={api_key}\"\n",
    "BASE_NEWS_URL = \"https://api.polygon.io/v2/reference/news?ticker={ticker}&published_utc.lte={end_date}&order=asc&limit=1000&sort=published_utc&apiKey={api_key}\"\n",
    "\n",
    "proj = hopsworks.login()\n",
    "fs = proj.get_feature_store()\n",
    "secrets = hopsworks.get_secrets_api()\n",
    "polygon_key = secrets.get_secret('POLYGON_API_KEY').value\n",
    "print(polygon_key)"
   ]
  },
  {
   "cell_type": "code",
   "execution_count": null,
   "id": "4ab8eb98",
   "metadata": {},
   "outputs": [],
   "source": []
  },
  {
   "cell_type": "code",
   "execution_count": 6,
   "id": "e34ad03f",
   "metadata": {},
   "outputs": [],
   "source": [
    "\n",
    "tickers = json.loads('[\"AAPL\", \"AMZN\", \"GOOGL\", \"MSFT\", \"NVDA\", \"TSLA\"]')\n",
    " \n",
    "\n",
    "# final_tickers = tickers.copy()\n",
    "# final_tickers.extend(['SPY', 'QQQ', 'DIA', 'IWM', 'VTI', 'EFA', 'BIL', 'SHV', 'IEI', 'IEF', 'TLT'])\n",
    "logging.basicConfig(level=logging.INFO, format='%(asctime)s - %(levelname)s - %(message)s')\n",
    "\n",
    "\n",
    "async def fetch_data(session, url):\n",
    "    async with session.get(url) as response:\n",
    "        \n",
    "        return await response.json()\n",
    "\n",
    "async def get_ticker_data(session, ticker):\n",
    "    end_date = date.today()\n",
    "    start_date = \"2024-01-01\"  #! Adjust as needed\n",
    "    url = BASE_PRICE_URL.format(ticker=ticker, start_date=start_date, end_date=end_date, api_key=polygon_key)\n",
    "    all_data = []\n",
    "\n",
    "    next_url = url\n",
    "    while next_url:\n",
    "        response_data = await fetch_data(session, next_url)\n",
    "        all_data.extend(response_data.get('results', []))\n",
    "\n",
    "        next_url = response_data.get('next_url')\n",
    "        if next_url:\n",
    "            next_url = f\"{next_url}&apiKey={polygon_key}\"\n",
    "\n",
    "    return {ticker: all_data}\n",
    "\n",
    "async def get_news_data(session, ticker):\n",
    "    end_date = date.today()\n",
    "    url = BASE_NEWS_URL.format(ticker=ticker, end_date=end_date, api_key=polygon_key)\n",
    "    all_data = []\n",
    "\n",
    "    next_url = url\n",
    "    while next_url:\n",
    "        response_data = await fetch_data(session, next_url)\n",
    "        all_data.extend(response_data.get('results', []))\n",
    "\n",
    "        next_url = response_data.get('next_url')\n",
    "        if next_url:\n",
    "            next_url = f\"{next_url}&apiKey={polygon_key}\"\n",
    "\n",
    "    return {ticker: all_data}\n",
    "\n",
    "async def call_price(tickers):\n",
    "    async with aiohttp.ClientSession() as session:\n",
    "        results = await asyncio.gather(*(get_ticker_data(session, ticker) for ticker in tickers))\n",
    "    return results\n",
    "\n",
    "async def call_news(tickers):\n",
    "    async with aiohttp.ClientSession() as session:\n",
    "        results = await asyncio.gather(*(get_news_data(session, ticker) for ticker in tickers))\n",
    "    return results\n",
    "\n",
    "def process_price_data(price_data):\n",
    "    price_rows = []\n",
    "    for ticker_data in price_data:\n",
    "        for ticker, results in ticker_data.items():\n",
    "            for result in results:\n",
    "                price_rows.append(\n",
    "                    (ticker, result[\"t\"], float(result[\"o\"]), float(result[\"h\"]), float(result[\"l\"]), float(result[\"c\"]), \n",
    "                    float(result[\"v\"]), float(result.get(\"vw\", 0)), (result.get(\"n\", 0))))\n",
    "    return price_rows\n",
    "\n",
    "def process_news_data(news_data):\n",
    "    return [{\"search_ticker\": ticker, **data} for ticker_data in news_data for ticker, datas in ticker_data.items() for data in datas]\n",
    "\n",
    "def run_in_thread(fn):\n",
    "    loop = asyncio.new_event_loop()\n",
    "    asyncio.set_event_loop(loop)\n",
    "    with ThreadPoolExecutor() as pool:\n",
    "        return pool.submit(fn).result()"
   ]
  },
  {
   "cell_type": "code",
   "execution_count": 7,
   "id": "0001ae6e",
   "metadata": {},
   "outputs": [
    {
     "name": "stdout",
     "output_type": "stream",
     "text": [
      "2024-09-18 14:59:38,803 INFO: Calling Polygon API\n",
      "2024-09-18 14:59:40,433 INFO: Done calling Polygon API.. Processing price data\n",
      "2024-09-18 14:59:42,157 INFO: Creating News Data\n"
     ]
    }
   ],
   "source": [
    "price_schema = StructType([\n",
    "    StructField(\"ticker\", StringType(), True),\n",
    "    StructField(\"t\", LongType(), True),\n",
    "    StructField(\"o\", FloatType(), True),\n",
    "    StructField(\"h\", FloatType(), True),\n",
    "    StructField(\"l\", FloatType(), True),\n",
    "    StructField(\"c\", FloatType(), True),\n",
    "    StructField(\"v\", FloatType(), True),\n",
    "    StructField(\"vw\", FloatType(), True),\n",
    "    StructField(\"n\", LongType(), True)\n",
    "])\n",
    "\n",
    "logging.info(\"Calling Polygon API\")\n",
    "\n",
    "price_data = run_in_thread(lambda: asyncio.run(call_price(tickers)))\n",
    "\n",
    "try: \n",
    "    news_data = run_in_thread(lambda: asyncio.run(call_news(tickers)))\n",
    "except Exception as e:\n",
    "    logging.error(f\"Error calling news API: {e}\")\n",
    "    pass\n",
    "\n",
    "logging.info(\"Done calling Polygon API.. Processing price data\")\n",
    "\n",
    "price_rows = process_price_data(price_data)\n",
    "price_df = spark.createDataFrame(price_rows, schema=price_schema)\n",
    "\n",
    "try: \n",
    "    logging.info(\"Creating News Data\")\n",
    "    news_rows = process_news_data(news_data)\n",
    "    news_df = spark.createDataFrame(news_rows)\n",
    "except Exception as e:\n",
    "    logging.error(f\"Error processing news data: {e}\")\n",
    "    pass\n",
    "\n"
   ]
  },
  {
   "cell_type": "code",
   "execution_count": 8,
   "id": "7c92f586",
   "metadata": {},
   "outputs": [
    {
     "name": "stdout",
     "output_type": "stream",
     "text": [
      "+------+-------------+-------+--------+--------+------+-----------+--------+-------+\n",
      "|ticker|            t|      o|       h|       l|     c|          v|      vw|      n|\n",
      "+------+-------------+-------+--------+--------+------+-----------+--------+-------+\n",
      "|  AAPL|1704171600000| 187.15|  188.44| 183.885|185.64|8.1964872E7|185.9465|1008871|\n",
      "|  AAPL|1704258000000| 184.22|  185.88|  183.43|184.25| 5.841446E7|184.3226| 656853|\n",
      "|  AAPL|1704344400000| 182.15|183.0872|  180.88|181.91|7.1878672E7|182.0183| 712692|\n",
      "|  AAPL|1704430800000| 181.99|  182.76|  180.17|181.18| 6.237116E7| 181.474| 682334|\n",
      "|  AAPL|1704690000000|182.085|   185.6|   181.5|185.56|5.9144472E7|184.3702| 669173|\n",
      "|  AAPL|1704776400000| 183.92|  185.15|  182.73|185.14|4.2841808E7|184.3706| 538180|\n",
      "|  AAPL|1704862800000| 184.35|   186.4|  183.92|186.19|4.6192908E7|185.2509| 554777|\n",
      "|  AAPL|1704949200000| 186.54|  187.05|  183.62|185.59|4.9128408E7|185.0604| 584008|\n",
      "|  AAPL|1705035600000| 186.06|  186.74|  185.19|185.92|4.0477784E7|185.8199| 477050|\n",
      "|  AAPL|1705381200000| 182.16|  184.26| 180.934|183.63| 6.507664E7|182.8866| 767281|\n",
      "|  AAPL|1705467600000| 181.27|  182.93|   180.3|182.68|4.7317432E7|181.9201| 594632|\n",
      "|  AAPL|1705554000000| 186.09|  189.14|  185.83|188.63|7.7722752E7|187.9358| 787233|\n",
      "|  AAPL|1705640400000| 189.33|  191.95|  188.82|191.56|6.8887984E7|190.6149| 682663|\n",
      "|  AAPL|1705899600000|  192.3|  195.33|  192.26|193.89|6.0131852E7|193.9891| 718107|\n",
      "|  AAPL|1705986000000| 195.02|  195.75|193.8299|195.18|4.2355592E7|194.8203| 533093|\n",
      "|  AAPL|1706072400000| 195.42|  196.38|  194.34| 194.5|5.3631316E7|195.2063| 594714|\n",
      "|  AAPL|1706158800000| 195.22|196.2675|193.1125|194.17|5.4822128E7|194.7337| 644526|\n",
      "|  AAPL|1706245200000| 194.27|  194.76|  191.94|192.42|4.4587112E7|193.1207| 534165|\n",
      "|  AAPL|1706504400000| 192.01|   192.2|  189.58|191.73|4.7145624E7|191.2954| 599513|\n",
      "|  AAPL|1706590800000| 190.94|   191.8|  187.47|188.04|5.5836968E7|188.7927| 690705|\n",
      "+------+-------------+-------+--------+--------+------+-----------+--------+-------+\n",
      "only showing top 20 rows\n",
      "\n"
     ]
    }
   ],
   "source": [
    "price_df.show()"
   ]
  },
  {
   "cell_type": "code",
   "execution_count": 9,
   "id": "b6b9d7e3",
   "metadata": {},
   "outputs": [
    {
     "name": "stdout",
     "output_type": "stream",
     "text": [
      "+--------------------+--------------------+--------------------+--------------------+--------------------+-----------+--------------------+--------------------+-------------+--------------------+--------------------+-------+\n",
      "|         article_url|              author|         description|                  id|           image_url|   keywords|       published_utc|           publisher|search_ticker|             tickers|               title|amp_url|\n",
      "+--------------------+--------------------+--------------------+--------------------+--------------------+-----------+--------------------+--------------------+-------------+--------------------+--------------------+-------+\n",
      "|https://www.fool....|newsfeedback@fool...|Our industry expe...|vHF34aOm44qBBn5Uv...|https://g.foolcdn...|[investing]|2018-01-06T01:10:00Z|{name -> The Motl...|         AMZN|      [GS, AMZN, WW]|The 2017 Industry...|   null|\n",
      "|https://www.fool....|newsfeedback@fool...|They're big, beau...|oc77BKWDEc996_Z22...|https://g.foolcdn...|[investing]|2018-11-05T22:50:00Z|{name -> The Motl...|         AMZN|[BRK.A, AAPL, T, ...|Stock Market Powe...|   null|\n",
      "|https://www.fool....|newsfeedback@fool...|They're big, beau...|julGGddQouTACj5-a...|https://g.foolcdn...|[investing]|2018-11-12T16:11:00Z|{name -> The Motl...|         AMZN|[AAPL, WMT, MSFT,...|Stock Market Powe...|   null|\n",
      "|https://www.fool....|newsfeedback@fool...|They're big, beau...|9Ejese50YfgD46Khw...|https://g.foolcdn...|[investing]|2018-11-18T15:00:00Z|{name -> The Motl...|         AMZN|[AAPL, GOOGL, MSF...|Stock Market Powe...|   null|\n",
      "|https://www.fool....|newsfeedback@fool...|They're big, beau...|nzljg1rSyWgSJuQt9...|https://g.foolcdn...|[investing]|2018-11-25T15:00:00Z|{name -> The Motl...|         AMZN|[AAPL, JPM, GOOGL...|Stock Market Powe...|   null|\n",
      "|https://www.fool....|newsfeedback@fool...|They're big, beau...|iE1uYXdslo8c_HB10...|https://g.foolcdn...|[investing]|2018-12-02T15:00:00Z|{name -> The Motl...|         AMZN|[AAPL, JPM, GOOGL...|Stock Market Powe...|   null|\n",
      "|https://www.fool....|newsfeedback@fool...|They're big, beau...|jwkqQsvWbsNRfReIx...|https://g.foolcdn...|[investing]|2018-12-09T23:30:00Z|{name -> The Motl...|         AMZN|[AAPL, MCD, JPM, ...|Stock Market Powe...|   null|\n",
      "|https://www.fool....|newsfeedback@fool...|They're big, beau...|AkDKPnKytDEQurB6H...|https://g.foolcdn...|[investing]|2018-12-16T14:30:00Z|{name -> The Motl...|         AMZN|[AAPL, MCD, JPM, ...|Stock Market Powe...|   null|\n",
      "|https://www.fool....|newsfeedback@fool...|They're big, beau...|cEgkHeligPK3irzcn...|https://g.foolcdn...|[investing]|2018-12-24T00:30:00Z|{name -> The Motl...|         AMZN|[AAPL, GOOGL, AMZ...|Stock Market Powe...|   null|\n",
      "|https://www.fool....|newsfeedback@fool...|They're big, beau...|Pv4d67PhsYP5RjW9l...|https://g.foolcdn...|[investing]|2018-12-30T17:00:00Z|{name -> The Motl...|         AMZN|[AAPL, IBM, JPM, ...|Stock Market Powe...|   null|\n",
      "|https://www.fool....|newsfeedback@fool...|They're big, beau...|5FaeGkiuFGZACz4d0...|https://g.foolcdn...|[investing]|2019-01-06T17:00:00Z|{name -> The Motl...|         AMZN|[AAPL, JPM, NFLX,...|Stock Market Powe...|   null|\n",
      "|https://www.fool....|newsfeedback@fool...|They're big, beau...|pYIQQk5G2botuFEMA...|https://g.foolcdn...|[investing]|2019-01-13T17:00:00Z|{name -> The Motl...|         AMZN|[AAPL, PFE, GOOGL...|Stock Market Powe...|   null|\n",
      "|https://www.fool....|newsfeedback@fool...|They're big, beau...|NL1YELzc2sQZMg_L4...|https://g.foolcdn...|[investing]|2019-01-20T17:00:00Z|{name -> The Motl...|         AMZN|[C, AAPL, NFLX, W...|Stock Market Powe...|   null|\n",
      "|https://www.fool....|newsfeedback@fool...|They're big, beau...|hUz6-21Q0sUh3l1sG...|https://g.foolcdn...|[investing]|2019-01-27T17:00:00Z|{name -> The Motl...|         AMZN|[AAPL, PFE, WMT, ...|Stock Market Powe...|   null|\n",
      "|https://www.fool....|newsfeedback@fool...|They're big, beau...|LDL1Zs1mxCTM5pN7s...|https://g.foolcdn...|[investing]|2019-02-03T17:00:00Z|{name -> The Motl...|         AMZN|[AAPL, MCD, GE, W...|Stock Market Powe...|   null|\n",
      "|https://www.fool....|newsfeedback@fool...|Google may have i...|CLRPPlgmNyp3hx4Ni...|https://g.foolcdn...|[investing]|2019-02-27T02:41:00Z|{name -> The Motl...|         AMZN|[AAPL, GOOGL, AMZ...|After Amazon's Ec...|   null|\n",
      "|https://www.fool....|newsfeedback@fool...|The e-commerce gi...|_oDlta_kDAhuhDmyr...|https://g.foolcdn...|[investing]|2019-03-01T14:37:00Z|{name -> The Motl...|         AMZN|              [AMZN]|With Scheduled De...|   null|\n",
      "|https://www.fool....|newsfeedback@fool...|The once-dominant...|joHmYBpiVH3QiZp42...|https://g.foolcdn...|[investing]|2019-03-11T13:16:00Z|{name -> The Motl...|         AMZN|              [AMZN]|Barnes & Noble Co...|   null|\n",
      "|https://www.zacks...|       Jim Giaquinto|NASDAQ has Three-...|W0wwhJ-nAt7A1PHaq...|                null|       null|2020-04-14T13:15:00Z|{name -> Zacks In...|         AMZN|[NDAQ, DG, BMY, B...|NASDAQ has Three-...|   null|\n",
      "|https://www.zacks...|       Jim Giaquinto|NASDAQ Makes It F...|amRJYpIUdbBJxNB49...|                null|       null|2020-04-15T13:15:00Z|{name -> Zacks In...|         AMZN|[IRBT, LYV, WYNN,...|NASDAQ Makes It F...|   null|\n",
      "+--------------------+--------------------+--------------------+--------------------+--------------------+-----------+--------------------+--------------------+-------------+--------------------+--------------------+-------+\n",
      "only showing top 20 rows\n",
      "\n"
     ]
    }
   ],
   "source": [
    "news_df.show()"
   ]
  },
  {
   "cell_type": "code",
   "execution_count": 10,
   "id": "6ab3a868",
   "metadata": {},
   "outputs": [
    {
     "name": "stdout",
     "output_type": "stream",
     "text": [
      "+--------------------+--------------------+--------------------+--------------------+--------------------+-----------+--------------------+-------------+--------------------+--------------------+-------+--------------------+\n",
      "|         article_url|              author|         description|                  id|           image_url|   keywords|       published_utc|search_ticker|             tickers|               title|amp_url|    publisher_values|\n",
      "+--------------------+--------------------+--------------------+--------------------+--------------------+-----------+--------------------+-------------+--------------------+--------------------+-------+--------------------+\n",
      "|https://www.fool....|newsfeedback@fool...|Our industry expe...|vHF34aOm44qBBn5Uv...|https://g.foolcdn...|[investing]|2018-01-06T01:10:00Z|         AMZN|      [GS, AMZN, WW]|The 2017 Industry...|   null|[The Motley Fool,...|\n",
      "|https://www.fool....|newsfeedback@fool...|They're big, beau...|oc77BKWDEc996_Z22...|https://g.foolcdn...|[investing]|2018-11-05T22:50:00Z|         AMZN|[BRK.A, AAPL, T, ...|Stock Market Powe...|   null|[The Motley Fool,...|\n",
      "|https://www.fool....|newsfeedback@fool...|They're big, beau...|julGGddQouTACj5-a...|https://g.foolcdn...|[investing]|2018-11-12T16:11:00Z|         AMZN|[AAPL, WMT, MSFT,...|Stock Market Powe...|   null|[The Motley Fool,...|\n",
      "|https://www.fool....|newsfeedback@fool...|They're big, beau...|9Ejese50YfgD46Khw...|https://g.foolcdn...|[investing]|2018-11-18T15:00:00Z|         AMZN|[AAPL, GOOGL, MSF...|Stock Market Powe...|   null|[The Motley Fool,...|\n",
      "|https://www.fool....|newsfeedback@fool...|They're big, beau...|nzljg1rSyWgSJuQt9...|https://g.foolcdn...|[investing]|2018-11-25T15:00:00Z|         AMZN|[AAPL, JPM, GOOGL...|Stock Market Powe...|   null|[The Motley Fool,...|\n",
      "|https://www.fool....|newsfeedback@fool...|They're big, beau...|iE1uYXdslo8c_HB10...|https://g.foolcdn...|[investing]|2018-12-02T15:00:00Z|         AMZN|[AAPL, JPM, GOOGL...|Stock Market Powe...|   null|[The Motley Fool,...|\n",
      "|https://www.fool....|newsfeedback@fool...|They're big, beau...|jwkqQsvWbsNRfReIx...|https://g.foolcdn...|[investing]|2018-12-09T23:30:00Z|         AMZN|[AAPL, MCD, JPM, ...|Stock Market Powe...|   null|[The Motley Fool,...|\n",
      "|https://www.fool....|newsfeedback@fool...|They're big, beau...|AkDKPnKytDEQurB6H...|https://g.foolcdn...|[investing]|2018-12-16T14:30:00Z|         AMZN|[AAPL, MCD, JPM, ...|Stock Market Powe...|   null|[The Motley Fool,...|\n",
      "|https://www.fool....|newsfeedback@fool...|They're big, beau...|cEgkHeligPK3irzcn...|https://g.foolcdn...|[investing]|2018-12-24T00:30:00Z|         AMZN|[AAPL, GOOGL, AMZ...|Stock Market Powe...|   null|[The Motley Fool,...|\n",
      "|https://www.fool....|newsfeedback@fool...|They're big, beau...|Pv4d67PhsYP5RjW9l...|https://g.foolcdn...|[investing]|2018-12-30T17:00:00Z|         AMZN|[AAPL, IBM, JPM, ...|Stock Market Powe...|   null|[The Motley Fool,...|\n",
      "|https://www.fool....|newsfeedback@fool...|They're big, beau...|5FaeGkiuFGZACz4d0...|https://g.foolcdn...|[investing]|2019-01-06T17:00:00Z|         AMZN|[AAPL, JPM, NFLX,...|Stock Market Powe...|   null|[The Motley Fool,...|\n",
      "|https://www.fool....|newsfeedback@fool...|They're big, beau...|pYIQQk5G2botuFEMA...|https://g.foolcdn...|[investing]|2019-01-13T17:00:00Z|         AMZN|[AAPL, PFE, GOOGL...|Stock Market Powe...|   null|[The Motley Fool,...|\n",
      "|https://www.fool....|newsfeedback@fool...|They're big, beau...|NL1YELzc2sQZMg_L4...|https://g.foolcdn...|[investing]|2019-01-20T17:00:00Z|         AMZN|[C, AAPL, NFLX, W...|Stock Market Powe...|   null|[The Motley Fool,...|\n",
      "|https://www.fool....|newsfeedback@fool...|They're big, beau...|hUz6-21Q0sUh3l1sG...|https://g.foolcdn...|[investing]|2019-01-27T17:00:00Z|         AMZN|[AAPL, PFE, WMT, ...|Stock Market Powe...|   null|[The Motley Fool,...|\n",
      "|https://www.fool....|newsfeedback@fool...|They're big, beau...|LDL1Zs1mxCTM5pN7s...|https://g.foolcdn...|[investing]|2019-02-03T17:00:00Z|         AMZN|[AAPL, MCD, GE, W...|Stock Market Powe...|   null|[The Motley Fool,...|\n",
      "|https://www.fool....|newsfeedback@fool...|Google may have i...|CLRPPlgmNyp3hx4Ni...|https://g.foolcdn...|[investing]|2019-02-27T02:41:00Z|         AMZN|[AAPL, GOOGL, AMZ...|After Amazon's Ec...|   null|[The Motley Fool,...|\n",
      "|https://www.fool....|newsfeedback@fool...|The e-commerce gi...|_oDlta_kDAhuhDmyr...|https://g.foolcdn...|[investing]|2019-03-01T14:37:00Z|         AMZN|              [AMZN]|With Scheduled De...|   null|[The Motley Fool,...|\n",
      "|https://www.fool....|newsfeedback@fool...|The once-dominant...|joHmYBpiVH3QiZp42...|https://g.foolcdn...|[investing]|2019-03-11T13:16:00Z|         AMZN|              [AMZN]|Barnes & Noble Co...|   null|[The Motley Fool,...|\n",
      "|https://www.zacks...|       Jim Giaquinto|NASDAQ has Three-...|W0wwhJ-nAt7A1PHaq...|                null|       null|2020-04-14T13:15:00Z|         AMZN|[NDAQ, DG, BMY, B...|NASDAQ has Three-...|   null|[Zacks Investment...|\n",
      "|https://www.zacks...|       Jim Giaquinto|NASDAQ Makes It F...|amRJYpIUdbBJxNB49...|                null|       null|2020-04-15T13:15:00Z|         AMZN|[IRBT, LYV, WYNN,...|NASDAQ Makes It F...|   null|[Zacks Investment...|\n",
      "+--------------------+--------------------+--------------------+--------------------+--------------------+-----------+--------------------+-------------+--------------------+--------------------+-------+--------------------+\n",
      "only showing top 20 rows\n",
      "\n"
     ]
    }
   ],
   "source": [
    "from pyspark.sql.functions import map_values\n",
    "\n",
    "news_df = news_df.withColumn('publisher_values', map_values('publisher'))\n",
    "news_df = news_df.drop('publisher')\n",
    "news_df.show()"
   ]
  },
  {
   "cell_type": "code",
   "execution_count": 11,
   "id": "37a966d1",
   "metadata": {},
   "outputs": [
    {
     "name": "stdout",
     "output_type": "stream",
     "text": [
      "Feature Group created successfully, explore it at \n",
      "https://hopsworks0.logicalclocks.com/p/119/fs/67/fg/13\n"
     ]
    },
    {
     "data": {
      "text/plain": [
       "(None, None)"
      ]
     },
     "execution_count": 11,
     "metadata": {},
     "output_type": "execute_result"
    }
   ],
   "source": [
    "stock_fg = fs.get_or_create_feature_group(name=\"stock_price\", \n",
    "                                    version=1,\n",
    "                                    primary_key=['ticker', 't' ])\n",
    "stock_fg.insert(price_df)"
   ]
  },
  {
   "cell_type": "code",
   "execution_count": 12,
   "id": "b488b70f",
   "metadata": {},
   "outputs": [
    {
     "name": "stdout",
     "output_type": "stream",
     "text": [
      "Feature Group created successfully, explore it at \n",
      "https://hopsworks0.logicalclocks.com/p/119/fs/67/fg/14\n"
     ]
    },
    {
     "data": {
      "text/plain": [
       "(None, None)"
      ]
     },
     "execution_count": 12,
     "metadata": {},
     "output_type": "execute_result"
    }
   ],
   "source": [
    "news_fg = fs.get_or_create_feature_group(name=\"stock_news\", \n",
    "                                    version=1,\n",
    "                                    primary_key=['article_url'])\n",
    "news_fg.insert(news_df)"
   ]
  },
  {
   "cell_type": "code",
   "execution_count": null,
   "id": "3dc4aa36",
   "metadata": {},
   "outputs": [],
   "source": []
  }
 ],
 "metadata": {
  "kernelspec": {
   "display_name": "PySpark",
   "language": "python",
   "name": "pysparkkernel"
  },
  "language_info": {
   "codemirror_mode": {
    "name": "ipython",
    "version": 3
   },
   "file_extension": ".py",
   "mimetype": "text/x-python",
   "name": "python",
   "nbconvert_exporter": "python",
   "pygments_lexer": "ipython3",
   "version": "3.10.11"
  }
 },
 "nbformat": 4,
 "nbformat_minor": 5
}
